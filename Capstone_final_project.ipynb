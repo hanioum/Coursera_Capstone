{
 "cells": [
  {
   "cell_type": "markdown",
   "metadata": {},
   "source": [
    "# Restaurants Locations Analysis in Boston"
   ]
  },
  {
   "cell_type": "markdown",
   "metadata": {},
   "source": [
    "## 1- Introduction / Business Problem"
   ]
  },
  {
   "cell_type": "markdown",
   "metadata": {},
   "source": [
    "This analysis aims at answering the question of where would someone open an Italian restaurant in Boston.\n",
    "Given the different areas (Zip Codes) in Boston, there are several factors that would play a role in deciding the location. Having analysis on the market and clustering the Zip codes into clusters would help having an overview of the top areas (Zip codes) to start looking. "
   ]
  },
  {
   "cell_type": "markdown",
   "metadata": {},
   "source": [
    "## 2- Data"
   ]
  },
  {
   "cell_type": "markdown",
   "metadata": {},
   "source": [
    "There are a number of data that needs to be used in order to carry out this analysis, namely the following:<br\n",
    "1- Zip codes with their location coordinates\n",
    "2- Population in each zip code area\n",
    "3- Average household income in each zip code area\n",
    "4- number of Italian restaurants in each Zip code area (specifically, within a certain radius of the center of the zip code area)\n",
    "\n",
    "\n",
    "The sources of the data will be as follows:\n",
    "\n",
    "1- Zip codes, coordinates, population, and income data from the below link:\n",
    "http://zipatlas.com/us/ma/boston/zip-code-comparison/median-household-income.htm\n",
    "\n",
    "2- Italian restaurants in each location: using Foursquare API"
   ]
  },
  {
   "cell_type": "code",
   "execution_count": null,
   "metadata": {},
   "outputs": [],
   "source": []
  }
 ],
 "metadata": {
  "kernelspec": {
   "display_name": "Python 3",
   "language": "python",
   "name": "python3"
  },
  "language_info": {
   "codemirror_mode": {
    "name": "ipython",
    "version": 3
   },
   "file_extension": ".py",
   "mimetype": "text/x-python",
   "name": "python",
   "nbconvert_exporter": "python",
   "pygments_lexer": "ipython3",
   "version": "3.7.7"
  }
 },
 "nbformat": 4,
 "nbformat_minor": 4
}
